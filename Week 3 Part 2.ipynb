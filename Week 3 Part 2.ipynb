{
 "cells": [
  {
   "cell_type": "markdown",
   "metadata": {},
   "source": [
    "<b>Adding Latitude and Longitude Co-ordinates to the DataFrame</b>"
   ]
  },
  {
   "cell_type": "markdown",
   "metadata": {},
   "source": [
    "Installing Library"
   ]
  },
  {
   "cell_type": "markdown",
   "metadata": {},
   "source": [
    "Reading the Toronto.csv which created on Part 1 Notebook"
   ]
  },
  {
   "cell_type": "code",
   "execution_count": 2,
   "metadata": {},
   "outputs": [],
   "source": [
    "from bs4 import BeautifulSoup\n",
    "import requests\n",
    "import numpy as np\n",
    "import pandas as pd\n",
    "from geopy.geocoders import Nominatim\n",
    "import folium"
   ]
  },
  {
   "cell_type": "code",
   "execution_count": 3,
   "metadata": {},
   "outputs": [
    {
     "name": "stdout",
     "output_type": "stream",
     "text": [
      "https://en.wikipedia.org/wiki/List_of_neighbourhoods_in_Toronto\n",
      "200\n",
      "{'Date': 'Sat, 23 May 2020 14:50:12 GMT', 'Server': 'mw1266.eqiad.wmnet', 'X-Content-Type-Options': 'nosniff', 'P3p': 'CP=\"See https://en.wikipedia.org/wiki/Special:CentralAutoLogin/P3P for more info.\"', 'Content-Language': 'en', 'Vary': 'Accept-Encoding,Cookie,Authorization', 'Last-Modified': 'Sat, 23 May 2020 14:34:15 GMT', 'Content-Type': 'text/html; charset=UTF-8', 'Content-Encoding': 'gzip', 'Age': '2', 'X-Cache': 'cp5008 miss, cp5009 miss', 'X-Cache-Status': 'miss', 'Server-Timing': 'cache;desc=\"miss\"', 'Strict-Transport-Security': 'max-age=106384710; includeSubDomains; preload', 'Set-Cookie': 'WMF-Last-Access=23-May-2020;Path=/;HttpOnly;secure;Expires=Wed, 24 Jun 2020 12:00:00 GMT, WMF-Last-Access-Global=23-May-2020;Path=/;Domain=.wikipedia.org;HttpOnly;secure;Expires=Wed, 24 Jun 2020 12:00:00 GMT, GeoIP=IN:BR:Patna:25.59:85.13:v4; Path=/; secure; Domain=.wikipedia.org', 'X-Client-IP': '223.230.173.179', 'Cache-Control': 'private, s-maxage=0, max-age=0, must-revalidate', 'Accept-Ranges': 'bytes', 'Transfer-Encoding': 'chunked', 'Connection': 'keep-alive'}\n"
     ]
    }
   ],
   "source": [
    "url = 'https://en.wikipedia.org/wiki/List_of_neighbourhoods_in_Toronto'\n",
    "result = requests.get(url)\n",
    "print(url)\n",
    "print(result.status_code)\n",
    "print(result.headers)"
   ]
  },
  {
   "cell_type": "code",
   "execution_count": 4,
   "metadata": {},
   "outputs": [
    {
     "data": {
      "text/html": [
       "<div>\n",
       "<style scoped>\n",
       "    .dataframe tbody tr th:only-of-type {\n",
       "        vertical-align: middle;\n",
       "    }\n",
       "\n",
       "    .dataframe tbody tr th {\n",
       "        vertical-align: top;\n",
       "    }\n",
       "\n",
       "    .dataframe thead th {\n",
       "        text-align: right;\n",
       "    }\n",
       "</style>\n",
       "<table border=\"1\" class=\"dataframe\">\n",
       "  <thead>\n",
       "    <tr style=\"text-align: right;\">\n",
       "      <th></th>\n",
       "      <th>Hood</th>\n",
       "      <th>Latitude</th>\n",
       "      <th>Longitude</th>\n",
       "    </tr>\n",
       "  </thead>\n",
       "  <tbody>\n",
       "  </tbody>\n",
       "</table>\n",
       "</div>"
      ],
      "text/plain": [
       "Empty DataFrame\n",
       "Columns: [Hood, Latitude, Longitude]\n",
       "Index: []"
      ]
     },
     "execution_count": 4,
     "metadata": {},
     "output_type": "execute_result"
    }
   ],
   "source": [
    "# define the dataframe\n",
    "df = pd.DataFrame(columns=['Hood', 'Latitude', 'Longitude'])\n",
    "df.head()"
   ]
  },
  {
   "cell_type": "code",
   "execution_count": 7,
   "metadata": {},
   "outputs": [],
   "source": [
    "soup = BeautifulSoup(result.content, 'html.parser')\n",
    "table = soup.find('table')\n",
    "lis = table.find_all('li')\n",
    "\n",
    "list_of_n = []\n",
    "for li in lis:\n",
    "    a = li.find('a')\n",
    "    list_of_n.append(a.get('title').split(\", \")[0].split(\" (neighbourhood)\")[0].split(\" (Toronto)\")[0] )"
   ]
  },
  {
   "cell_type": "code",
   "execution_count": 6,
   "metadata": {},
   "outputs": [
    {
     "name": "stdout",
     "output_type": "stream",
     "text": [
      "(32, 3)\n"
     ]
    },
    {
     "data": {
      "text/html": [
       "<div>\n",
       "<style scoped>\n",
       "    .dataframe tbody tr th:only-of-type {\n",
       "        vertical-align: middle;\n",
       "    }\n",
       "\n",
       "    .dataframe tbody tr th {\n",
       "        vertical-align: top;\n",
       "    }\n",
       "\n",
       "    .dataframe thead th {\n",
       "        text-align: right;\n",
       "    }\n",
       "</style>\n",
       "<table border=\"1\" class=\"dataframe\">\n",
       "  <thead>\n",
       "    <tr style=\"text-align: right;\">\n",
       "      <th></th>\n",
       "      <th>Hood</th>\n",
       "      <th>Latitude</th>\n",
       "      <th>Longitude</th>\n",
       "    </tr>\n",
       "  </thead>\n",
       "  <tbody>\n",
       "    <tr>\n",
       "      <td>0</td>\n",
       "      <td>Alexandra Park</td>\n",
       "      <td>NaN</td>\n",
       "      <td>NaN</td>\n",
       "    </tr>\n",
       "    <tr>\n",
       "      <td>1</td>\n",
       "      <td>The Annex</td>\n",
       "      <td>NaN</td>\n",
       "      <td>NaN</td>\n",
       "    </tr>\n",
       "    <tr>\n",
       "      <td>2</td>\n",
       "      <td>Baldwin Village</td>\n",
       "      <td>NaN</td>\n",
       "      <td>NaN</td>\n",
       "    </tr>\n",
       "    <tr>\n",
       "      <td>3</td>\n",
       "      <td>Cabbagetown</td>\n",
       "      <td>NaN</td>\n",
       "      <td>NaN</td>\n",
       "    </tr>\n",
       "    <tr>\n",
       "      <td>4</td>\n",
       "      <td>CityPlace</td>\n",
       "      <td>NaN</td>\n",
       "      <td>NaN</td>\n",
       "    </tr>\n",
       "  </tbody>\n",
       "</table>\n",
       "</div>"
      ],
      "text/plain": [
       "              Hood Latitude Longitude\n",
       "0   Alexandra Park      NaN       NaN\n",
       "1        The Annex      NaN       NaN\n",
       "2  Baldwin Village      NaN       NaN\n",
       "3      Cabbagetown      NaN       NaN\n",
       "4        CityPlace      NaN       NaN"
      ]
     },
     "execution_count": 6,
     "metadata": {},
     "output_type": "execute_result"
    }
   ],
   "source": [
    "df['Hood'] = pd.Series(list_of_n)\n",
    "print(df.shape)\n",
    "df.head()"
   ]
  },
  {
   "cell_type": "code",
   "execution_count": 8,
   "metadata": {},
   "outputs": [
    {
     "name": "stdout",
     "output_type": "stream",
     "text": [
      "(32, 3)\n"
     ]
    },
    {
     "data": {
      "text/html": [
       "<div>\n",
       "<style scoped>\n",
       "    .dataframe tbody tr th:only-of-type {\n",
       "        vertical-align: middle;\n",
       "    }\n",
       "\n",
       "    .dataframe tbody tr th {\n",
       "        vertical-align: top;\n",
       "    }\n",
       "\n",
       "    .dataframe thead th {\n",
       "        text-align: right;\n",
       "    }\n",
       "</style>\n",
       "<table border=\"1\" class=\"dataframe\">\n",
       "  <thead>\n",
       "    <tr style=\"text-align: right;\">\n",
       "      <th></th>\n",
       "      <th>Hood</th>\n",
       "      <th>Latitude</th>\n",
       "      <th>Longitude</th>\n",
       "    </tr>\n",
       "  </thead>\n",
       "  <tbody>\n",
       "    <tr>\n",
       "      <td>0</td>\n",
       "      <td>Alexandra Park</td>\n",
       "      <td>NaN</td>\n",
       "      <td>NaN</td>\n",
       "    </tr>\n",
       "    <tr>\n",
       "      <td>1</td>\n",
       "      <td>The Annex</td>\n",
       "      <td>NaN</td>\n",
       "      <td>NaN</td>\n",
       "    </tr>\n",
       "    <tr>\n",
       "      <td>2</td>\n",
       "      <td>Baldwin Village</td>\n",
       "      <td>NaN</td>\n",
       "      <td>NaN</td>\n",
       "    </tr>\n",
       "    <tr>\n",
       "      <td>3</td>\n",
       "      <td>Cabbagetown</td>\n",
       "      <td>NaN</td>\n",
       "      <td>NaN</td>\n",
       "    </tr>\n",
       "    <tr>\n",
       "      <td>4</td>\n",
       "      <td>CityPlace</td>\n",
       "      <td>NaN</td>\n",
       "      <td>NaN</td>\n",
       "    </tr>\n",
       "  </tbody>\n",
       "</table>\n",
       "</div>"
      ],
      "text/plain": [
       "              Hood Latitude Longitude\n",
       "0   Alexandra Park      NaN       NaN\n",
       "1        The Annex      NaN       NaN\n",
       "2  Baldwin Village      NaN       NaN\n",
       "3      Cabbagetown      NaN       NaN\n",
       "4        CityPlace      NaN       NaN"
      ]
     },
     "execution_count": 8,
     "metadata": {},
     "output_type": "execute_result"
    }
   ],
   "source": [
    "df.drop_duplicates(inplace=True)\n",
    "print(df.shape)\n",
    "df.head()"
   ]
  },
  {
   "cell_type": "code",
   "execution_count": 9,
   "metadata": {},
   "outputs": [
    {
     "name": "stdout",
     "output_type": "stream",
     "text": [
      "The geograpical coordinate of Alexandra Park, Toronto are 43.65075755, -79.40430754323067.\n",
      "The geograpical coordinate of The Annex, Toronto are 43.6703377, -79.407117.\n",
      "The geograpical coordinate of Baldwin Village, Toronto are 43.6776885, -79.4081645.\n",
      "The geograpical coordinate of Cabbagetown, Toronto are 43.6644734, -79.3669861.\n",
      "The geograpical coordinate of CityPlace, Toronto are 43.6392482, -79.3963865.\n",
      "The geograpical coordinate of Chinatown, Toronto are 43.6529237, -79.3980316.\n",
      "The geograpical coordinate of Church and Wellesley, Toronto are 43.6655242, -79.3838011.\n",
      "The geograpical coordinate of Corktown, Toronto are 43.6573699, -79.3565129.\n",
      "The geograpical coordinate of Discovery District, Toronto are 43.6575555, -79.3894803.\n",
      "The geograpical coordinate of Distillery District, Toronto are 43.6502947, -79.3595401.\n",
      "The geograpical coordinate of Toronto Entertainment District, Toronto are 43.64383755, -79.38669247414063.\n",
      "Cannot do: East Bayfront, Toronto, will drop index: 11\n",
      "The geograpical coordinate of Fashion District, Toronto are 43.6454561, -79.3949942.\n",
      "The geograpical coordinate of Financial District, Toronto are 43.64866395, -79.38153972121495.\n",
      "The geograpical coordinate of Garden District, Toronto are 43.6564995, -79.3771141.\n",
      "The geograpical coordinate of Grange Park, Toronto are 43.652196599999996, -79.39231921757992.\n",
      "The geograpical coordinate of Harbord Village, Toronto are 43.6615225, -79.4097446.\n",
      "The geograpical coordinate of Harbourfront, Toronto are 43.6400801, -79.3801495.\n",
      "The geograpical coordinate of Kensington Market, Toronto are 43.6552136, -79.4022604.\n",
      "Cannot do: Little Japan, Toronto, will drop index: 19\n",
      "The geograpical coordinate of Moss Park, Toronto are 43.6546438, -79.3697278.\n",
      "The geograpical coordinate of Old Town, Toronto are 43.6708625, -79.37279241253721.\n",
      "The geograpical coordinate of Quayside, Toronto are 43.6472502, -79.35817207837727.\n",
      "The geograpical coordinate of Queen Street West, Toronto are 43.6524006, -79.3793646.\n",
      "The geograpical coordinate of Regent Park, Toronto are 43.6607056, -79.3604569.\n",
      "The geograpical coordinate of South Core, Toronto are 43.6421064, -79.3774455.\n",
      "The geograpical coordinate of St. James Town, Toronto are 43.6694032, -79.3727041.\n",
      "The geograpical coordinate of St. Lawrence, Toronto are 43.649422, -79.3714278.\n",
      "The geograpical coordinate of Toronto Islands, Toronto are 43.6230544, -79.39431563721035.\n",
      "The geograpical coordinate of Trefann Court, Toronto are 43.6564893, -79.3628297.\n",
      "The geograpical coordinate of University of Toronto, Toronto are 43.663461999999996, -79.39775965337452.\n",
      "The geograpical coordinate of Yorkville, Toronto are 43.6713861, -79.3901677.\n"
     ]
    },
    {
     "data": {
      "text/html": [
       "<div>\n",
       "<style scoped>\n",
       "    .dataframe tbody tr th:only-of-type {\n",
       "        vertical-align: middle;\n",
       "    }\n",
       "\n",
       "    .dataframe tbody tr th {\n",
       "        vertical-align: top;\n",
       "    }\n",
       "\n",
       "    .dataframe thead th {\n",
       "        text-align: right;\n",
       "    }\n",
       "</style>\n",
       "<table border=\"1\" class=\"dataframe\">\n",
       "  <thead>\n",
       "    <tr style=\"text-align: right;\">\n",
       "      <th></th>\n",
       "      <th>Hood</th>\n",
       "      <th>Latitude</th>\n",
       "      <th>Longitude</th>\n",
       "    </tr>\n",
       "  </thead>\n",
       "  <tbody>\n",
       "    <tr>\n",
       "      <td>0</td>\n",
       "      <td>Alexandra Park</td>\n",
       "      <td>43.6508</td>\n",
       "      <td>-79.4043</td>\n",
       "    </tr>\n",
       "    <tr>\n",
       "      <td>1</td>\n",
       "      <td>The Annex</td>\n",
       "      <td>43.6703</td>\n",
       "      <td>-79.4071</td>\n",
       "    </tr>\n",
       "    <tr>\n",
       "      <td>2</td>\n",
       "      <td>Baldwin Village</td>\n",
       "      <td>43.6777</td>\n",
       "      <td>-79.4082</td>\n",
       "    </tr>\n",
       "    <tr>\n",
       "      <td>3</td>\n",
       "      <td>Cabbagetown</td>\n",
       "      <td>43.6645</td>\n",
       "      <td>-79.367</td>\n",
       "    </tr>\n",
       "    <tr>\n",
       "      <td>4</td>\n",
       "      <td>CityPlace</td>\n",
       "      <td>43.6392</td>\n",
       "      <td>-79.3964</td>\n",
       "    </tr>\n",
       "  </tbody>\n",
       "</table>\n",
       "</div>"
      ],
      "text/plain": [
       "              Hood Latitude Longitude\n",
       "0   Alexandra Park  43.6508  -79.4043\n",
       "1        The Annex  43.6703  -79.4071\n",
       "2  Baldwin Village  43.6777  -79.4082\n",
       "3      Cabbagetown  43.6645   -79.367\n",
       "4        CityPlace  43.6392  -79.3964"
      ]
     },
     "execution_count": 9,
     "metadata": {},
     "output_type": "execute_result"
    }
   ],
   "source": [
    "to_drop_unknown = []\n",
    "geolocator = Nominatim(user_agent=\"coursera\")\n",
    "for index, row in df.iterrows():\n",
    "    address = row['Hood'] + ', Toronto'\n",
    "    try:\n",
    "        location = geolocator.geocode(address)\n",
    "        latitude = location.latitude\n",
    "        longitude = location.longitude\n",
    "        print('The geograpical coordinate of {} are {}, {}.'.format(address, latitude, longitude))\n",
    "        df.loc[index, 'Latitude'] = latitude\n",
    "        df.loc[index, 'Longitude'] = longitude\n",
    "    except AttributeError:\n",
    "        print('Cannot do: {}, will drop index: {}'.format(address, index))\n",
    "        to_drop_unknown.append(index)\n",
    "\n",
    "df.head()"
   ]
  },
  {
   "cell_type": "code",
   "execution_count": 10,
   "metadata": {},
   "outputs": [],
   "source": [
    "clean_df = df.drop(to_drop_unknown)"
   ]
  },
  {
   "cell_type": "code",
   "execution_count": 11,
   "metadata": {},
   "outputs": [
    {
     "data": {
      "text/plain": [
       "(30, 3)"
      ]
     },
     "execution_count": 11,
     "metadata": {},
     "output_type": "execute_result"
    }
   ],
   "source": [
    "clean_df.shape\n"
   ]
  },
  {
   "cell_type": "code",
   "execution_count": 12,
   "metadata": {
    "scrolled": true
   },
   "outputs": [
    {
     "name": "stdout",
     "output_type": "stream",
     "text": [
      "The geograpical coordinate of Toronto are 43.6534817, -79.3839347.\n"
     ]
    },
    {
     "data": {
      "text/html": [
       "<div style=\"width:100%;\"><div style=\"position:relative;width:100%;height:0;padding-bottom:60%;\"><span style=\"color:#565656\">Make this Notebook Trusted to load map: File -> Trust Notebook</span><iframe src=\"about:blank\" style=\"position:absolute;width:100%;height:100%;left:0;top:0;border:none !important;\" data-html=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 onload=\"this.contentDocument.open();this.contentDocument.write(atob(this.getAttribute('data-html')));this.contentDocument.close();\" allowfullscreen webkitallowfullscreen mozallowfullscreen></iframe></div></div>"
      ],
      "text/plain": [
       "<folium.folium.Map at 0x120d3f7d0>"
      ]
     },
     "execution_count": 12,
     "metadata": {},
     "output_type": "execute_result"
    }
   ],
   "source": [
    "address = 'Toronto'\n",
    "try:\n",
    "    location = geolocator.geocode(address)\n",
    "    latitude = location.latitude\n",
    "    longitude = location.longitude\n",
    "    print('The geograpical coordinate of {} are {}, {}.'.format(address, latitude, longitude))\n",
    "    df.loc[index, 'Latitude'] = latitude\n",
    "    df.loc[index, 'Longitude'] = longitude\n",
    "except AttributeError:\n",
    "    print('Cannot do: {}, will drop index: {}'.format(address, index))\n",
    "\n",
    "my_map = folium.Map(location=[latitude, longitude], zoom_start=11)\n",
    "\n",
    "# add markers to map\n",
    "for lat, lng, label in zip(clean_df['Latitude'], clean_df['Longitude'], clean_df['Hood']):\n",
    "    label = folium.Popup(label)\n",
    "    folium.CircleMarker(\n",
    "        [lat, lng],\n",
    "        radius=5,\n",
    "        popup=label,\n",
    "        color='blue',\n",
    "        fill_color='#3186cc',\n",
    "        fill_opacity=0.7).add_to(my_map)  \n",
    "    \n",
    "my_map"
   ]
  },
  {
   "cell_type": "code",
   "execution_count": null,
   "metadata": {},
   "outputs": [],
   "source": []
  }
 ],
 "metadata": {
  "kernelspec": {
   "display_name": "Python 3",
   "language": "python",
   "name": "python3"
  },
  "language_info": {
   "codemirror_mode": {
    "name": "ipython",
    "version": 3
   },
   "file_extension": ".py",
   "mimetype": "text/x-python",
   "name": "python",
   "nbconvert_exporter": "python",
   "pygments_lexer": "ipython3",
   "version": "3.7.4"
  }
 },
 "nbformat": 4,
 "nbformat_minor": 2
}
