{
 "cells": [
  {
   "cell_type": "markdown",
   "metadata": {},
   "source": [
    "<h1>Segmenting and Clustering Neighborhoods in Toronto</h1>"
   ]
  },
  {
   "cell_type": "markdown",
   "metadata": {},
   "source": [
    "<b>Applied Data Science Capstone - Coursera</b>"
   ]
  },
  {
   "cell_type": "markdown",
   "metadata": {},
   "source": [
    "This notebook contains Part 3 of my submission for the Week 3 Assignment: Segmenting and Clustering Neighborhoods in Toronto from the Applied Data Science Capstone course."
   ]
  },
  {
   "cell_type": "code",
   "execution_count": 1,
   "metadata": {},
   "outputs": [
    {
     "name": "stdout",
     "output_type": "stream",
     "text": [
      "Libraries Imported!\n"
     ]
    }
   ],
   "source": [
    "#First, lets import all the libraries to be used on this notebook\n",
    "import pandas as pd\n",
    "import numpy as np\n",
    "import folium\n",
    "import requests\n",
    "from sklearn.cluster import KMeans\n",
    "print('Libraries Imported!')"
   ]
  },
  {
   "cell_type": "markdown",
   "metadata": {},
   "source": [
    "<h2>Part 3 - Explore and cluster the neighborhoods in Toronto</h2>"
   ]
  },
  {
   "cell_type": "markdown",
   "metadata": {},
   "source": [
    "<b>3.1 Read data and create new dataframe with only North, Central, Downtown and East Toronto"
   ]
  },
  {
   "cell_type": "code",
   "execution_count": 2,
   "metadata": {},
   "outputs": [
    {
     "data": {
      "text/html": [
       "<div>\n",
       "<style scoped>\n",
       "    .dataframe tbody tr th:only-of-type {\n",
       "        vertical-align: middle;\n",
       "    }\n",
       "\n",
       "    .dataframe tbody tr th {\n",
       "        vertical-align: top;\n",
       "    }\n",
       "\n",
       "    .dataframe thead th {\n",
       "        text-align: right;\n",
       "    }\n",
       "</style>\n",
       "<table border=\"1\" class=\"dataframe\">\n",
       "  <thead>\n",
       "    <tr style=\"text-align: right;\">\n",
       "      <th></th>\n",
       "      <th>Postal Code</th>\n",
       "      <th>Borough</th>\n",
       "      <th>Neighborhood</th>\n",
       "      <th>Latitude</th>\n",
       "      <th>Longitude</th>\n",
       "    </tr>\n",
       "  </thead>\n",
       "  <tbody>\n",
       "    <tr>\n",
       "      <td>0</td>\n",
       "      <td>M1B</td>\n",
       "      <td>Scarborough</td>\n",
       "      <td>Malvern, Rouge</td>\n",
       "      <td>43.806686</td>\n",
       "      <td>-79.194353</td>\n",
       "    </tr>\n",
       "    <tr>\n",
       "      <td>1</td>\n",
       "      <td>M1C</td>\n",
       "      <td>Scarborough</td>\n",
       "      <td>Rouge Hill, Port Union, Highland Creek</td>\n",
       "      <td>43.784535</td>\n",
       "      <td>-79.160497</td>\n",
       "    </tr>\n",
       "    <tr>\n",
       "      <td>2</td>\n",
       "      <td>M1E</td>\n",
       "      <td>Scarborough</td>\n",
       "      <td>Guildwood, Morningside, West Hill</td>\n",
       "      <td>43.763573</td>\n",
       "      <td>-79.188711</td>\n",
       "    </tr>\n",
       "    <tr>\n",
       "      <td>3</td>\n",
       "      <td>M1G</td>\n",
       "      <td>Scarborough</td>\n",
       "      <td>Woburn</td>\n",
       "      <td>43.770992</td>\n",
       "      <td>-79.216917</td>\n",
       "    </tr>\n",
       "    <tr>\n",
       "      <td>4</td>\n",
       "      <td>M1H</td>\n",
       "      <td>Scarborough</td>\n",
       "      <td>Cedarbrae</td>\n",
       "      <td>43.773136</td>\n",
       "      <td>-79.239476</td>\n",
       "    </tr>\n",
       "  </tbody>\n",
       "</table>\n",
       "</div>"
      ],
      "text/plain": [
       "  Postal Code      Borough                            Neighborhood   Latitude  \\\n",
       "0         M1B  Scarborough                          Malvern, Rouge  43.806686   \n",
       "1         M1C  Scarborough  Rouge Hill, Port Union, Highland Creek  43.784535   \n",
       "2         M1E  Scarborough       Guildwood, Morningside, West Hill  43.763573   \n",
       "3         M1G  Scarborough                                  Woburn  43.770992   \n",
       "4         M1H  Scarborough                               Cedarbrae  43.773136   \n",
       "\n",
       "   Longitude  \n",
       "0 -79.194353  \n",
       "1 -79.160497  \n",
       "2 -79.188711  \n",
       "3 -79.216917  \n",
       "4 -79.239476  "
      ]
     },
     "execution_count": 2,
     "metadata": {},
     "output_type": "execute_result"
    }
   ],
   "source": [
    "# Read .csv file\n",
    "df = pd.read_csv('Toronto_Postcodes_2.csv', index_col=0)\n",
    "df.head()"
   ]
  },
  {
   "cell_type": "code",
   "execution_count": 3,
   "metadata": {},
   "outputs": [
    {
     "name": "stdout",
     "output_type": "stream",
     "text": [
      "The dataframe has 10 boroughs and 103 neighborhoods.\n"
     ]
    }
   ],
   "source": [
    "print('The dataframe has {} boroughs and {} neighborhoods.'.format(\n",
    "        len(df['Borough'].unique()),\n",
    "        df.shape[0]\n",
    "    )\n",
    ")"
   ]
  },
  {
   "cell_type": "code",
   "execution_count": 4,
   "metadata": {},
   "outputs": [],
   "source": [
    "#Rename \"Neighbourhood\" to \"Neighborhood\"\n",
    "df.rename(columns={'Neighbourhood': 'Neighborhood'}, inplace=True)"
   ]
  },
  {
   "cell_type": "code",
   "execution_count": 5,
   "metadata": {},
   "outputs": [
    {
     "data": {
      "text/plain": [
       "Borough\n",
       "Central Toronto      9\n",
       "Downtown Toronto    19\n",
       "East Toronto         5\n",
       "East York            5\n",
       "Etobicoke           12\n",
       "Mississauga          1\n",
       "North York          24\n",
       "Scarborough         17\n",
       "West Toronto         6\n",
       "York                 5\n",
       "Name: Neighborhood, dtype: int64"
      ]
     },
     "execution_count": 5,
     "metadata": {},
     "output_type": "execute_result"
    }
   ],
   "source": [
    "#Obtain the amount of neighborhoods per Borough\n",
    "df.groupby('Borough').count()['Neighborhood']"
   ]
  },
  {
   "cell_type": "code",
   "execution_count": 6,
   "metadata": {},
   "outputs": [
    {
     "name": "stderr",
     "output_type": "stream",
     "text": [
      "/Users/amitsingh/opt/anaconda3/lib/python3.7/site-packages/pandas/core/frame.py:4102: SettingWithCopyWarning: \n",
      "A value is trying to be set on a copy of a slice from a DataFrame\n",
      "\n",
      "See the caveats in the documentation: http://pandas.pydata.org/pandas-docs/stable/user_guide/indexing.html#returning-a-view-versus-a-copy\n",
      "  errors=errors,\n"
     ]
    },
    {
     "data": {
      "text/html": [
       "<div>\n",
       "<style scoped>\n",
       "    .dataframe tbody tr th:only-of-type {\n",
       "        vertical-align: middle;\n",
       "    }\n",
       "\n",
       "    .dataframe tbody tr th {\n",
       "        vertical-align: top;\n",
       "    }\n",
       "\n",
       "    .dataframe thead th {\n",
       "        text-align: right;\n",
       "    }\n",
       "</style>\n",
       "<table border=\"1\" class=\"dataframe\">\n",
       "  <thead>\n",
       "    <tr style=\"text-align: right;\">\n",
       "      <th></th>\n",
       "      <th>Postal Code</th>\n",
       "      <th>Borough</th>\n",
       "      <th>Neighborhood</th>\n",
       "      <th>Latitude</th>\n",
       "      <th>Longitude</th>\n",
       "    </tr>\n",
       "  </thead>\n",
       "  <tbody>\n",
       "    <tr>\n",
       "      <td>0</td>\n",
       "      <td>M4E</td>\n",
       "      <td>East Toronto</td>\n",
       "      <td>The Beaches</td>\n",
       "      <td>43.676357</td>\n",
       "      <td>-79.293031</td>\n",
       "    </tr>\n",
       "    <tr>\n",
       "      <td>1</td>\n",
       "      <td>M4K</td>\n",
       "      <td>East Toronto</td>\n",
       "      <td>The Danforth West, Riverdale</td>\n",
       "      <td>43.679557</td>\n",
       "      <td>-79.352188</td>\n",
       "    </tr>\n",
       "    <tr>\n",
       "      <td>2</td>\n",
       "      <td>M4L</td>\n",
       "      <td>East Toronto</td>\n",
       "      <td>India Bazaar, The Beaches West</td>\n",
       "      <td>43.668999</td>\n",
       "      <td>-79.315572</td>\n",
       "    </tr>\n",
       "    <tr>\n",
       "      <td>3</td>\n",
       "      <td>M4M</td>\n",
       "      <td>East Toronto</td>\n",
       "      <td>Studio District</td>\n",
       "      <td>43.659526</td>\n",
       "      <td>-79.340923</td>\n",
       "    </tr>\n",
       "    <tr>\n",
       "      <td>4</td>\n",
       "      <td>M4N</td>\n",
       "      <td>Central Toronto</td>\n",
       "      <td>Lawrence Park</td>\n",
       "      <td>43.728020</td>\n",
       "      <td>-79.388790</td>\n",
       "    </tr>\n",
       "  </tbody>\n",
       "</table>\n",
       "</div>"
      ],
      "text/plain": [
       "  Postal Code          Borough                    Neighborhood   Latitude  \\\n",
       "0         M4E     East Toronto                     The Beaches  43.676357   \n",
       "1         M4K     East Toronto    The Danforth West, Riverdale  43.679557   \n",
       "2         M4L     East Toronto  India Bazaar, The Beaches West  43.668999   \n",
       "3         M4M     East Toronto                 Studio District  43.659526   \n",
       "4         M4N  Central Toronto                   Lawrence Park  43.728020   \n",
       "\n",
       "   Longitude  \n",
       "0 -79.293031  \n",
       "1 -79.352188  \n",
       "2 -79.315572  \n",
       "3 -79.340923  \n",
       "4 -79.388790  "
      ]
     },
     "execution_count": 6,
     "metadata": {},
     "output_type": "execute_result"
    }
   ],
   "source": [
    "#Create new dataset\n",
    "df_toronto = df[df['Borough'].str.contains('Toronto')]\n",
    "df_toronto.reset_index(inplace=True)\n",
    "df_toronto.drop('index', axis=1, inplace=True)\n",
    "df_toronto.head()"
   ]
  },
  {
   "cell_type": "code",
   "execution_count": 7,
   "metadata": {},
   "outputs": [
    {
     "name": "stdout",
     "output_type": "stream",
     "text": [
      "Borough\n",
      "Central Toronto      9\n",
      "Downtown Toronto    19\n",
      "East Toronto         5\n",
      "West Toronto         6\n",
      "Name: Neighborhood, dtype: int64\n"
     ]
    }
   ],
   "source": [
    "#Check the number of neighborhoods\n",
    "print(df_toronto.groupby('Borough').count()['Neighborhood'])"
   ]
  },
  {
   "cell_type": "code",
   "execution_count": 8,
   "metadata": {},
   "outputs": [],
   "source": [
    "#Create list with the Boroughs (to be used later)\n",
    "boroughs = df_toronto['Borough'].unique().tolist()"
   ]
  },
  {
   "cell_type": "markdown",
   "metadata": {},
   "source": [
    "<b>3.1 Visualize neighborhoods"
   ]
  },
  {
   "cell_type": "code",
   "execution_count": 9,
   "metadata": {},
   "outputs": [
    {
     "name": "stdout",
     "output_type": "stream",
     "text": [
      "The geographical coordinates of Toronto are 43.66713498717948, -79.38987324871795\n"
     ]
    }
   ],
   "source": [
    "#Obtain the coordinates from the dataset itself, just averaging Latitude/Longitude of the current dataset \n",
    "lat_toronto = df_toronto['Latitude'].mean()\n",
    "lon_toronto = df_toronto['Longitude'].mean()\n",
    "print('The geographical coordinates of Toronto are {}, {}'.format(lat_toronto, lon_toronto))"
   ]
  },
  {
   "cell_type": "code",
   "execution_count": 10,
   "metadata": {},
   "outputs": [],
   "source": [
    "# This code is to create a dictionary to map a random color to each borough. \n",
    "# https://stackoverflow.com/questions/28999287/generate-random-colors-rgb/28999469 and \n",
    "# https://stackoverflow.com/questions/3380726/converting-a-rgb-color-tuple-to-a-six-digit-code-in-python\n",
    "borough_color = {}\n",
    "for borough in boroughs:\n",
    "    borough_color[borough]= '#%02X%02X%02X' % tuple(np.random.choice(range(256), size=3)) #Random color"
   ]
  },
  {
   "cell_type": "code",
   "execution_count": 11,
   "metadata": {},
   "outputs": [
    {
     "data": {
      "text/html": [
       "<div style=\"width:100%;\"><div style=\"position:relative;width:100%;height:0;padding-bottom:60%;\"><span style=\"color:#565656\">Make this Notebook Trusted to load map: File -> Trust Notebook</span><iframe src=\"about:blank\" style=\"position:absolute;width:100%;height:100%;left:0;top:0;border:none !important;\" data-html=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 onload=\"this.contentDocument.open();this.contentDocument.write(atob(this.getAttribute('data-html')));this.contentDocument.close();\" allowfullscreen webkitallowfullscreen mozallowfullscreen></iframe></div></div>"
      ],
      "text/plain": [
       "<folium.folium.Map at 0x107aeabd0>"
      ]
     },
     "execution_count": 11,
     "metadata": {},
     "output_type": "execute_result"
    }
   ],
   "source": [
    "# create map of Toronto using latitude and longitude values\n",
    "map_toronto = folium.Map(location=[lat_toronto, lon_toronto], zoom_start=12)\n",
    "\n",
    "# add markers to map\n",
    "for lat, lng, borough, neighborhood in zip(df_toronto['Latitude'], \n",
    "                                           df_toronto['Longitude'],\n",
    "                                           df_toronto['Borough'], \n",
    "                                           df_toronto['Neighborhood']):\n",
    "    label_text = borough + ' - ' + neighborhood\n",
    "    label = folium.Popup(label_text, parse_html=True)\n",
    "    folium.CircleMarker(\n",
    "        [lat, lng],\n",
    "        tooltip = label_text,\n",
    "        radius=5,\n",
    "        popup=label,\n",
    "        color=borough_color[borough],\n",
    "        fill=True,\n",
    "        fill_color=borough_color[borough],\n",
    "        fill_opacity=0.7).add_to(map_toronto)  \n",
    "    \n",
    "map_toronto"
   ]
  },
  {
   "cell_type": "markdown",
   "metadata": {},
   "source": [
    "<b>3.2 Explore neighbourhoods in Toronto using the Foursquare API"
   ]
  },
  {
   "cell_type": "code",
   "execution_count": 21,
   "metadata": {},
   "outputs": [],
   "source": [
    "CLIENT_ID = 'XXXX' # your Foursquare ID\n",
    "CLIENT_SECRET = 'XXXX' # your Foursquare Secret\n",
    "VERSION = '20180605' # Foursquare API version\n",
    "LIMIT = 100 # limit of number of venues returned by Foursquare API\n",
    "radius = 500 # define radius"
   ]
  },
  {
   "cell_type": "code",
   "execution_count": 32,
   "metadata": {},
   "outputs": [],
   "source": [
    "def getNearbyVenues(names, latitudes, longitudes, radius=500):\n",
    "    \n",
    "    venues_list=[]\n",
    "    for name, lat, lng in zip(names, latitudes, longitudes):\n",
    "        print(name)\n",
    "            \n",
    "        # create the API request URL\n",
    "        url = 'https://api.foursquare.com/v2/venues/explore?&client_id={}&client_secret={}&v={}&ll={},{}&radius={}&limit={}'.format(\n",
    "            CLIENT_ID, \n",
    "            CLIENT_SECRET, \n",
    "            VERSION, \n",
    "            lat, \n",
    "            lng, \n",
    "            radius, \n",
    "            LIMIT)\n",
    "            \n",
    "        # make the GET request\n",
    "        results = requests.get(url).json()[\"response\"]['groups'][0]['items']\n",
    "        \n",
    "        # return only relevant information for each nearby venue\n",
    "        venues_list.append([(\n",
    "            name, \n",
    "            lat, \n",
    "            lng, \n",
    "            v['venue']['name'], \n",
    "            v['venue']['location']['lat'], \n",
    "            v['venue']['location']['lng'],  \n",
    "            v['venue']['categories'][0]['name']) for v in results])\n",
    "\n",
    "    nearby_venues = pd.DataFrame([item for venue_list in venues_list for item in venue_list])\n",
    "    nearby_venues.columns = ['Neighborhood', \n",
    "                  'Neighborhood Latitude', \n",
    "                  'Neighborhood Longitude', \n",
    "                  'Venue', \n",
    "                  'Venue Latitude', \n",
    "                  'Venue Longitude', \n",
    "                  'Venue Category']\n",
    "    \n",
    "    return(nearby_venues)\n"
   ]
  },
  {
   "cell_type": "code",
   "execution_count": null,
   "metadata": {},
   "outputs": [],
   "source": []
  }
 ],
 "metadata": {
  "kernelspec": {
   "display_name": "Python 3",
   "language": "python",
   "name": "python3"
  },
  "language_info": {
   "codemirror_mode": {
    "name": "ipython",
    "version": 3
   },
   "file_extension": ".py",
   "mimetype": "text/x-python",
   "name": "python",
   "nbconvert_exporter": "python",
   "pygments_lexer": "ipython3",
   "version": "3.7.4"
  }
 },
 "nbformat": 4,
 "nbformat_minor": 2
}
